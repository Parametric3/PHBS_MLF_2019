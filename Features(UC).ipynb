{
 "cells": [
  {
   "cell_type": "code",
   "execution_count": 1,
   "metadata": {},
   "outputs": [],
   "source": [
    "import openpyxl\n",
    "import pandas as pd\n",
    "import time"
   ]
  },
  {
   "cell_type": "code",
   "execution_count": 2,
   "metadata": {},
   "outputs": [],
   "source": [
    "# the train information of users\n",
    "loc = './data/four/tianchi_fresh_comp_train'\n",
    "user_source_train1 = pd.read_excel(loc + '_user_train1.xlsx')\n",
    "user_source_train2 = pd.read_excel(loc + '_user_train2.xlsx')\n",
    "user_source_train3 = pd.read_excel(loc + '_user_train3.xlsx')\n",
    "user_source_train4 = pd.read_excel(loc + '_user_train4.xlsx')\n",
    "# the test information of users\n",
    "user_source_test = pd.read_excel(loc + '_user_test.xlsx')\n",
    "# the information of items\n",
    "item_source = pd.read_excel('./data/four/tianchi_fresh_comp_train_item.xlsx')\n",
    "# the user-item pair \n",
    "pair_file_test = pd.read_excel('./data/four/user_item_pair_test_form.xlsx')\n",
    "pair_file_train = pd.read_excel('./data/four/user_item_pair_train_form.xlsx')"
   ]
  },
  {
   "cell_type": "code",
   "execution_count": 3,
   "metadata": {},
   "outputs": [],
   "source": [
    "file_dict = {'18': user_source_test,\n",
    "            '17': user_source_train1,\n",
    "            '10': user_source_train2,\n",
    "            '09': user_source_train3,\n",
    "            '08': user_source_train4}"
   ]
  },
  {
   "cell_type": "markdown",
   "metadata": {},
   "source": [
    "# Feature Generator"
   ]
  },
  {
   "cell_type": "markdown",
   "metadata": {},
   "source": [
    "## User-Category Features"
   ]
  },
  {
   "cell_type": "markdown",
   "metadata": {},
   "source": [
    "### Features of statistic"
   ]
  },
  {
   "cell_type": "markdown",
   "metadata": {},
   "source": [
    "Numbers of items the user had interactions with in that category"
   ]
  },
  {
   "cell_type": "code",
   "execution_count": 4,
   "metadata": {},
   "outputs": [],
   "source": [
    "def num_interactions(user_id, data_source, category_type):\n",
    "    return [len(data_source.index)]"
   ]
  },
  {
   "cell_type": "markdown",
   "metadata": {},
   "source": [
    "Repurchasing pattern: 1 if the user had repurchasing behavior"
   ]
  },
  {
   "cell_type": "code",
   "execution_count": 5,
   "metadata": {},
   "outputs": [],
   "source": [
    "def repurchasing(user_id, data_source, category_type):\n",
    "    df_4 = df_2[data_source['behavior_type'] == 4]\n",
    "    if len(df_4.index) > 1:\n",
    "        return [1]\n",
    "    else:\n",
    "        return [0]"
   ]
  },
  {
   "cell_type": "markdown",
   "metadata": {},
   "source": [
    "Number of purchasing behaviors in that category"
   ]
  },
  {
   "cell_type": "code",
   "execution_count": 6,
   "metadata": {},
   "outputs": [],
   "source": [
    "def num_purchasing(user_id, data_source, category_type):\n",
    "    df_4 = data_source[data_source['behavior_type'] == 4]\n",
    "    return [len(df_4.index)]"
   ]
  },
  {
   "cell_type": "markdown",
   "metadata": {},
   "source": [
    "### Features of ratio"
   ]
  },
  {
   "cell_type": "markdown",
   "metadata": {},
   "source": [
    "Category perference: Numbers of items the user had interactions with in that category divided by number of all items the user had interactions with"
   ]
  },
  {
   "cell_type": "code",
   "execution_count": 7,
   "metadata": {},
   "outputs": [],
   "source": [
    "def cate_preference(user_id, data_source, category_type):\n",
    "    return [len(data_source.index)/len(df_1.index)]"
   ]
  },
  {
   "cell_type": "markdown",
   "metadata": {},
   "source": [
    "Category purchase power: Number of purchasing behaviors in that category divided by numbers of items the user had interactions with in that category"
   ]
  },
  {
   "cell_type": "code",
   "execution_count": 8,
   "metadata": {},
   "outputs": [],
   "source": [
    "def cate_purchase_power(user_id, data_source, category_type):\n",
    "    df_4 = data_source[data_source['behavior_type'] == 4]\n",
    "    return [len(df_4.index)/len(data_source.index)]"
   ]
  },
  {
   "cell_type": "markdown",
   "metadata": {},
   "source": [
    "Overnight pruchase pattern: whether the user purchase the item one day after browsing, collecting or adding into cart"
   ]
  },
  {
   "cell_type": "code",
   "execution_count": 9,
   "metadata": {},
   "outputs": [],
   "source": [
    "def overnight(user_id, data_source, category_type):\n",
    "    df_4 = data_source[data_source['behavior_type'] == 4]\n",
    "    count = 0\n",
    "    if len(df_4.index) == 0:\n",
    "        return [0]\n",
    "    else:\n",
    "        for i in range(len(df_4.index)):\n",
    "            overnight = int(df_4['time'][df_4.index[i]][8:10])-1\n",
    "            for j in range(len(data_source.index)):\n",
    "                if data_source['behavior_type'][data_source.index[j]] != 4 and int(data_source['time'][data_source.index[j]][8:10]) == overnight:\n",
    "                    count += 1\n",
    "        return [count/len(df_4.index)]\n",
    "    "
   ]
  },
  {
   "cell_type": "markdown",
   "metadata": {},
   "source": [
    "# Write in the pair file"
   ]
  },
  {
   "cell_type": "code",
   "execution_count": 10,
   "metadata": {},
   "outputs": [],
   "source": [
    "feature_list = ['5_Number_of_items', '5_Repurchasing_pattern', '5_Number_of_purchasing', \n",
    "                '5_Category_prefernce', '5_Category_purchase_power', '5_Overnight_purchase_pattern']"
   ]
  },
  {
   "cell_type": "code",
   "execution_count": 11,
   "metadata": {},
   "outputs": [],
   "source": [
    "def correcting(day, source):\n",
    "    new_source = source\n",
    "    del_list = []\n",
    "    for i in range(len(new_source['user_id'])):\n",
    "        if new_source['time'][i][9] == day:\n",
    "            del_list.append(i)\n",
    "    new_source = new_source.drop(del_list)\n",
    "    return new_source"
   ]
  },
  {
   "cell_type": "code",
   "execution_count": 12,
   "metadata": {},
   "outputs": [],
   "source": [
    "def all_feature(user_id, correcting_source, category_type):\n",
    "    value_list = (num_interactions(user_id, correcting_source, category_type)+\n",
    "                 repurchasing(user_id, correcting_source, category_type)+\n",
    "                 num_purchasing(user_id, correcting_source, category_type)+\n",
    "                 cate_preference(user_id, correcting_source, category_type)+\n",
    "                 cate_purchase_power(user_id, correcting_source, category_type)+\n",
    "                 overnight(user_id, correcting_source, category_type))\n",
    "    return value_list"
   ]
  },
  {
   "cell_type": "code",
   "execution_count": 13,
   "metadata": {
    "scrolled": true
   },
   "outputs": [
    {
     "name": "stderr",
     "output_type": "stream",
     "text": [
      "E:\\Anaconda\\lib\\site-packages\\ipykernel_launcher.py:2: UserWarning: Boolean Series key will be reindexed to match DataFrame index.\n",
      "  \n"
     ]
    },
    {
     "name": "stdout",
     "output_type": "stream",
     "text": [
      "all time 8502.766943216324\n"
     ]
    }
   ],
   "source": [
    "time_start=time.time()\n",
    "wb_test = openpyxl.load_workbook(filename= './data/four/user_item_pair_test_form.xlsx')\n",
    "sheet_test = wb_test['sheet1']\n",
    "last_time, last_user, last_df = 0, 0, 0\n",
    "for col_num in range(len(feature_list)):\n",
    "            sheet_test.cell(row = 1, column = col_num +25, value=feature_list[col_num])\n",
    "\n",
    "for row_num in range(len(pair_file_test.index)):\n",
    "    day = pair_file_test['time'][row_num][8:10]\n",
    "    user_id = pair_file_test['user_id'][row_num]\n",
    "    if day == last_time and user_id == last_user:\n",
    "        df_1 = last_df\n",
    "    else:\n",
    "        ori_source = file_dict[day]\n",
    "        correcting_source = correcting(day, ori_source)\n",
    "        df_1 = correcting_source[correcting_source['user_id']==user_id]\n",
    "    \n",
    "    item_id = pair_file_test['item_id'][row_num]\n",
    "    df_2 = df_1[df_1['item_id']==item_id]\n",
    "    category_type = df_2['item_category'][df_2.index[0]]\n",
    "    df_3 = df_1[df_1['item_category'] == category_type]\n",
    "    \n",
    "    last_time = day\n",
    "    last_user = user_id\n",
    "    last_df = df_1\n",
    "    \n",
    "    value_list = all_feature(user_id, df_3, category_type)\n",
    "    for col_num in range(len(feature_list)):\n",
    "        sheet_test.cell(row = row_num+2, column = col_num +25, value=value_list[col_num])\n",
    "        \n",
    "        \n",
    "wb_test.save('./data/four/user_item_pair_test_form.xlsx')\n",
    "time_end=time.time()\n",
    "print('all time',time_end-time_start)\n"
   ]
  },
  {
   "cell_type": "code",
   "execution_count": 14,
   "metadata": {},
   "outputs": [
    {
     "name": "stderr",
     "output_type": "stream",
     "text": [
      "E:\\Anaconda\\lib\\site-packages\\ipykernel_launcher.py:2: UserWarning: Boolean Series key will be reindexed to match DataFrame index.\n",
      "  \n"
     ]
    },
    {
     "name": "stdout",
     "output_type": "stream",
     "text": [
      "all time 15752.987613916397\n"
     ]
    }
   ],
   "source": [
    "time_start=time.time()\n",
    "wb_train = openpyxl.load_workbook(filename= './data/four/user_item_pair_train_form.xlsx')\n",
    "sheet_train = wb_train['sheet1']\n",
    "last_time, last_user, last_df = 0, 0, 0\n",
    "for col_num in range(len(feature_list)):\n",
    "            sheet_train.cell(row = 1, column = col_num +25, value=feature_list[col_num])\n",
    "\n",
    "for row_num in range(len(pair_file_train.index)):\n",
    "    day = pair_file_train['time'][row_num][8:10]\n",
    "    user_id = pair_file_train['user_id'][row_num]\n",
    "    if day == last_time and user_id == last_user:\n",
    "        df_1 = last_df\n",
    "    else:\n",
    "        ori_source = file_dict[day]\n",
    "        correcting_source = correcting(day, ori_source)\n",
    "        df_1 = correcting_source[correcting_source['user_id']==user_id]\n",
    "    \n",
    "    item_id = pair_file_train['item_id'][row_num]\n",
    "    df_2 = df_1[df_1['item_id']==item_id]\n",
    "    category_type = df_2['item_category'][df_2.index[0]]\n",
    "    df_3 = df_1[df_1['item_category'] == category_type]\n",
    "    \n",
    "    last_time = day\n",
    "    last_user = user_id\n",
    "    last_df = df_1\n",
    "    \n",
    "    value_list = all_feature(user_id, df_3, category_type)\n",
    "    for col_num in range(len(feature_list)):\n",
    "        sheet_train.cell(row = row_num+2, column = col_num +25, value=value_list[col_num])\n",
    "\n",
    "    \n",
    "wb_train.save('./data/four/user_item_pair_train_form.xlsx')\n",
    "time_end=time.time()\n",
    "print('all time',time_end-time_start)"
   ]
  },
  {
   "cell_type": "code",
   "execution_count": null,
   "metadata": {},
   "outputs": [],
   "source": []
  }
 ],
 "metadata": {
  "kernelspec": {
   "display_name": "Python 3",
   "language": "python",
   "name": "python3"
  },
  "language_info": {
   "codemirror_mode": {
    "name": "ipython",
    "version": 3
   },
   "file_extension": ".py",
   "mimetype": "text/x-python",
   "name": "python",
   "nbconvert_exporter": "python",
   "pygments_lexer": "ipython3",
   "version": "3.7.3"
  }
 },
 "nbformat": 4,
 "nbformat_minor": 2
}
