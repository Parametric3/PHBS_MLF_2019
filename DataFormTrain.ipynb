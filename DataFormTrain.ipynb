{
 "cells": [
  {
   "cell_type": "code",
   "execution_count": 1,
   "metadata": {},
   "outputs": [],
   "source": [
    "import xlsxwriter\n",
    "import pandas as pd"
   ]
  },
  {
   "cell_type": "code",
   "execution_count": 2,
   "metadata": {},
   "outputs": [],
   "source": [
    "user_list, item_dict = [], {}"
   ]
  },
  {
   "cell_type": "code",
   "execution_count": 3,
   "metadata": {},
   "outputs": [],
   "source": [
    "train_files = ['1', '2', '3', '4']\n",
    "date_file_dict = {'1':'17',\n",
    "                 '2':'16',\n",
    "                 '3':'15',\n",
    "                 '4':'11'}"
   ]
  },
  {
   "cell_type": "markdown",
   "metadata": {},
   "source": [
    "Data Collection from different files"
   ]
  },
  {
   "cell_type": "code",
   "execution_count": 4,
   "metadata": {},
   "outputs": [],
   "source": [
    "def adding_data(file_name):\n",
    "    user = pd.read_excel('./data/two/tianchi_fresh_comp_train_user_train'+file_name+'.xlsx')\n",
    "# adding users\n",
    "    for i in range(len(user['user_id'])):\n",
    "        if user['user_id'][i] not in user_list and user['time'][i][8:10] != date_file_dict[file_name]:\n",
    "            user_list.append(user['user_id'][i])            \n",
    "\n",
    "# adding items\n",
    "    for user_name in user_list:\n",
    "        if user_name not in item_dict.keys():\n",
    "            item_dict[user_name] = []\n",
    "    for i in range(len(user['user_id'])):\n",
    "        if user['time'][i][8:10] != date_file_dict[file_name]:\n",
    "            df_1 = user[user['item_id'] == user['item_id'][i]]\n",
    "            label = 0\n",
    "            for j in range(len(df_1['user_id'])):\n",
    "                if df_1['behavior_type'][df_1.index[j]] == 4 and df_1['time'][df_1.index[j]][8:10] == date_file_dict[file_name]:\n",
    "                    label = 1\n",
    "            item_dict[user['user_id'][i]].append((user['item_id'][i], label, '2014-12-'+date_file_dict[file_name],))\n",
    "#         item_dict[user['user_id'][i]].append(user['item_id'][i])"
   ]
  },
  {
   "cell_type": "markdown",
   "metadata": {},
   "source": [
    "Writing in the excel file"
   ]
  },
  {
   "cell_type": "code",
   "execution_count": 5,
   "metadata": {},
   "outputs": [
    {
     "data": {
      "text/plain": [
       "0"
      ]
     },
     "execution_count": 5,
     "metadata": {},
     "output_type": "execute_result"
    }
   ],
   "source": [
    "workbook = xlsxwriter.Workbook('./data/two/user_item_pair_train_form.xlsx')\n",
    "worksheet = workbook.add_worksheet('sheet1') \n",
    "headings = ['user_id', 'item_id', 'label', 'time']\n",
    "worksheet.write_row('A1',headings)"
   ]
  },
  {
   "cell_type": "code",
   "execution_count": 6,
   "metadata": {},
   "outputs": [],
   "source": [
    "for name in train_files:\n",
    "    adding_data(name)"
   ]
  },
  {
   "cell_type": "code",
   "execution_count": 7,
   "metadata": {},
   "outputs": [],
   "source": [
    "row_num = 1\n",
    "for i in range(len(user_list)):\n",
    "    for j in range(len(item_dict[user_list[i]])):\n",
    "        worksheet.write(row_num, 0, user_list[i])\n",
    "        worksheet.write(row_num, 1, item_dict[user_list[i]][j][0])\n",
    "        worksheet.write(row_num, 2, item_dict[user_list[i]][j][1])\n",
    "        worksheet.write(row_num, 3, item_dict[user_list[i]][j][2])\n",
    "        row_num += 1"
   ]
  },
  {
   "cell_type": "code",
   "execution_count": 8,
   "metadata": {},
   "outputs": [
    {
     "data": {
      "text/plain": [
       "279526"
      ]
     },
     "execution_count": 8,
     "metadata": {},
     "output_type": "execute_result"
    }
   ],
   "source": [
    "row_num"
   ]
  },
  {
   "cell_type": "code",
   "execution_count": 9,
   "metadata": {},
   "outputs": [],
   "source": [
    "workbook.close()"
   ]
  },
  {
   "cell_type": "code",
   "execution_count": null,
   "metadata": {},
   "outputs": [],
   "source": []
  }
 ],
 "metadata": {
  "kernelspec": {
   "display_name": "Python 3",
   "language": "python",
   "name": "python3"
  },
  "language_info": {
   "codemirror_mode": {
    "name": "ipython",
    "version": 3
   },
   "file_extension": ".py",
   "mimetype": "text/x-python",
   "name": "python",
   "nbconvert_exporter": "python",
   "pygments_lexer": "ipython3",
   "version": "3.7.3"
  }
 },
 "nbformat": 4,
 "nbformat_minor": 2
}
