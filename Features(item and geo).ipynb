{
 "cells": [
  {
   "cell_type": "code",
   "execution_count": 5,
   "metadata": {},
   "outputs": [],
   "source": [
    "import pandas as pd\n",
    "from collections import Counter"
   ]
  },
  {
   "cell_type": "code",
   "execution_count": null,
   "metadata": {},
   "outputs": [],
   "source": [
    "train = pd.read_excel('D:/个人资料/研究生/学习/研一下/MLF/Project/result of feature/input_user_item_pair_train_11,15,16,17.xlsx')"
   ]
  },
  {
   "cell_type": "code",
   "execution_count": null,
   "metadata": {},
   "outputs": [],
   "source": [
    "train11=train.loc[(train[\"time\"]==\"2014-12-11\")]\n",
    "train15=train.loc[(train[\"time\"]==\"2014-12-15\")]\n",
    "train16=train.loc[(train[\"time\"]==\"2014-12-16\")]\n",
    "train17=train.loc[(train[\"time\"]==\"2014-12-17\")]"
   ]
  },
  {
   "cell_type": "code",
   "execution_count": null,
   "metadata": {},
   "outputs": [],
   "source": [
    "print(train11)\n",
    "print(train15)\n",
    "print(train16)\n",
    "print(train17)"
   ]
  },
  {
   "cell_type": "code",
   "execution_count": null,
   "metadata": {},
   "outputs": [],
   "source": [
    "train11.to_excel('D:/个人资料/研究生/学习/研一下/MLF/Project/result of feature/input_user_item_pair_train_11.xlsx')\n",
    "train15.to_excel('D:/个人资料/研究生/学习/研一下/MLF/Project/result of feature/input_user_item_pair_train_15.xlsx')\n",
    "train16.to_excel('D:/个人资料/研究生/学习/研一下/MLF/Project/result of feature/input_user_item_pair_train_16_1.xlsx')\n",
    "train17.to_excel('D:/个人资料/研究生/学习/研一下/MLF/Project/result of feature/input_user_item_pair_train_17.xlsx')"
   ]
  },
  {
   "cell_type": "code",
   "execution_count": 6,
   "metadata": {},
   "outputs": [],
   "source": [
    "df = pd.read_excel('D:/个人资料/研究生/学习/研一下/MLF/Project/result of feature/input_tianchi_fresh_comp_train_user_train3_13,14.xlsx')"
   ]
  },
  {
   "cell_type": "code",
   "execution_count": 7,
   "metadata": {},
   "outputs": [
    {
     "name": "stdout",
     "output_type": "stream",
     "text": [
      "    user_id    item_id  behavior_type user_geohash  item_category  \\\n",
      "0  10001082  275221686              1          NaN          10576   \n",
      "1  10001082  220586551              1          NaN           7079   \n",
      "2  10001082  209290607              1          NaN           5894   \n",
      "3  10001082  125083630              1          NaN           4722   \n",
      "4  10001082  275221686              1          NaN          10576   \n",
      "5  10001082  110790001              1          NaN          13230   \n",
      "6  10001082  220586551              4          NaN           7079   \n",
      "7  10001082   85851739              1          NaN           2825   \n",
      "8  10001082  278017344              1          NaN           5334   \n",
      "9  10001082  216415944              1          NaN           5176   \n",
      "\n",
      "            time  \n",
      "0  2014-12-13 14  \n",
      "1  2014-12-14 03  \n",
      "2  2014-12-14 16  \n",
      "3  2014-12-14 03  \n",
      "4  2014-12-13 14  \n",
      "5  2014-12-14 16  \n",
      "6  2014-12-14 03  \n",
      "7  2014-12-14 16  \n",
      "8  2014-12-14 03  \n",
      "9  2014-12-13 14  \n"
     ]
    }
   ],
   "source": [
    "print(df.head(10))"
   ]
  },
  {
   "cell_type": "code",
   "execution_count": 8,
   "metadata": {},
   "outputs": [],
   "source": [
    "df['behavior_type1']=df['behavior_type'].apply(lambda x: list(str(x)))"
   ]
  },
  {
   "cell_type": "code",
   "execution_count": 9,
   "metadata": {},
   "outputs": [],
   "source": [
    "df['user_id1'] = df['user_id'].apply(lambda x: [str(x)])"
   ]
  },
  {
   "cell_type": "code",
   "execution_count": 10,
   "metadata": {},
   "outputs": [
    {
     "name": "stdout",
     "output_type": "stream",
     "text": [
      "['1']\n"
     ]
    }
   ],
   "source": [
    "print(df['behavior_type1'].loc[0])"
   ]
  },
  {
   "cell_type": "code",
   "execution_count": 11,
   "metadata": {},
   "outputs": [],
   "source": [
    "a = df.groupby('user_id')['behavior_type1'].sum()"
   ]
  },
  {
   "cell_type": "code",
   "execution_count": 15,
   "metadata": {},
   "outputs": [],
   "source": [
    "b = df.groupby('item_id')['behavior_type1'].sum()"
   ]
  },
  {
   "cell_type": "code",
   "execution_count": 16,
   "metadata": {},
   "outputs": [],
   "source": [
    "c = df.groupby('item_id')['user_id1'].sum()"
   ]
  },
  {
   "cell_type": "markdown",
   "metadata": {},
   "source": [
    "# Construct three sequence features"
   ]
  },
  {
   "cell_type": "code",
   "execution_count": 17,
   "metadata": {},
   "outputs": [
    {
     "name": "stdout",
     "output_type": "stream",
     "text": [
      "                                              Behavior_list\n",
      "user_id                                                    \n",
      "100605    [1, 1, 1, 1, 1, 1, 1, 1, 1, 1, 1, 1, 1, 1, 1, ...\n",
      "1031737   [1, 1, 1, 1, 1, 1, 1, 1, 1, 1, 1, 1, 1, 1, 1, ...\n",
      "1042942                         [1, 1, 1, 1, 1, 1, 3, 1, 1]\n",
      "1050718   [1, 1, 1, 1, 1, 3, 1, 1, 3, 1, 1, 1, 1, 1, 1, ...\n",
      "1087279   [1, 1, 1, 1, 1, 1, 1, 1, 1, 1, 1, 1, 1, 1, 1, ...\n",
      "1094209   [1, 1, 1, 1, 1, 1, 1, 1, 1, 1, 1, 1, 1, 1, 1, ...\n",
      "1111549   [1, 1, 1, 1, 4, 1, 1, 1, 1, 1, 1, 1, 1, 1, 1, ...\n",
      "10001082  [1, 1, 1, 1, 1, 1, 4, 1, 1, 1, 1, 1, 1, 1, 1, ...\n",
      "10009860  [1, 1, 1, 4, 1, 1, 1, 1, 1, 1, 1, 1, 1, 1, 1, ...\n",
      "10011993  [1, 1, 1, 1, 1, 1, 1, 1, 1, 1, 1, 1, 1, 1, 1, ...\n"
     ]
    }
   ],
   "source": [
    "data = pd.DataFrame()\n",
    "data['Behavior_list'] = a\n",
    "print(data.head(10))"
   ]
  },
  {
   "cell_type": "code",
   "execution_count": 18,
   "metadata": {},
   "outputs": [
    {
     "name": "stdout",
     "output_type": "stream",
     "text": [
      "           Behavior_list\n",
      "item_id                 \n",
      "12502             [3, 1]\n",
      "35990             [1, 1]\n",
      "44395             [1, 1]\n",
      "45976          [1, 2, 1]\n",
      "47606             [1, 1]\n",
      "53557    [1, 1, 1, 1, 1]\n",
      "92198                [1]\n",
      "94440             [1, 1]\n",
      "106100               [1]\n",
      "108953            [1, 1]\n"
     ]
    }
   ],
   "source": [
    "data1 = pd.DataFrame()\n",
    "data1['Behavior_list'] = b\n",
    "print(data1.head(10))"
   ]
  },
  {
   "cell_type": "code",
   "execution_count": 19,
   "metadata": {},
   "outputs": [
    {
     "name": "stdout",
     "output_type": "stream",
     "text": [
      "                                              user_id_list\n",
      "item_id                                                   \n",
      "12502                               [107264414, 107264414]\n",
      "35990                                 [10095384, 10095384]\n",
      "44395                               [111013189, 111013189]\n",
      "45976                    [101321698, 101321698, 101321698]\n",
      "47606                               [106734263, 106734263]\n",
      "53557    [100243045, 100243045, 100243045, 100243045, 1...\n",
      "92198                                          [100764607]\n",
      "94440                               [107546486, 107546486]\n",
      "106100                                         [100226515]\n",
      "108953                              [110507614, 110507614]\n"
     ]
    }
   ],
   "source": [
    "data2 = pd.DataFrame()\n",
    "data2['user_id_list'] = c\n",
    "print(data2.head(10))"
   ]
  },
  {
   "cell_type": "markdown",
   "metadata": {},
   "source": [
    "# Number of commodity actions"
   ]
  },
  {
   "cell_type": "code",
   "execution_count": 20,
   "metadata": {},
   "outputs": [],
   "source": [
    "data1['Number_of_acts'] = data2['user_id_list'].apply(lambda x: len(x))"
   ]
  },
  {
   "cell_type": "code",
   "execution_count": 21,
   "metadata": {},
   "outputs": [
    {
     "name": "stdout",
     "output_type": "stream",
     "text": [
      "item_id\n",
      "12502        2\n",
      "35990        2\n",
      "44395        2\n",
      "45976        3\n",
      "47606        2\n",
      "53557        5\n",
      "92198        1\n",
      "94440        2\n",
      "106100       1\n",
      "108953       2\n",
      "140594       3\n",
      "156244       1\n",
      "167698       2\n",
      "193293       1\n",
      "227939       1\n",
      "245918       1\n",
      "262691       1\n",
      "284068       9\n",
      "300317       1\n",
      "329077       1\n",
      "335886       2\n",
      "337096       1\n",
      "362854       1\n",
      "384966       2\n",
      "388234       3\n",
      "405994       1\n",
      "410652       1\n",
      "417914       5\n",
      "424066       2\n",
      "427150       1\n",
      "            ..\n",
      "404147670    3\n",
      "404161565    2\n",
      "404182920    2\n",
      "404194480    1\n",
      "404199397    1\n",
      "404208036    1\n",
      "404237820    1\n",
      "404239836    7\n",
      "404247317    2\n",
      "404271866    7\n",
      "404296937    3\n",
      "404325657    5\n",
      "404362314    3\n",
      "404374633    6\n",
      "404376397    2\n",
      "404377659    2\n",
      "404377710    2\n",
      "404419759    2\n",
      "404461310    2\n",
      "404467196    7\n",
      "404478531    1\n",
      "404479003    1\n",
      "404479644    2\n",
      "404524381    1\n",
      "404528374    2\n",
      "404552154    4\n",
      "404553355    4\n",
      "404554368    2\n",
      "404556406    2\n",
      "404558578    2\n",
      "Name: Number_of_acts, Length: 29356, dtype: int64\n"
     ]
    }
   ],
   "source": [
    "print(data1['Number_of_acts'] )"
   ]
  },
  {
   "cell_type": "markdown",
   "metadata": {
    "toc-hr-collapsed": false
   },
   "source": [
    "# Statistical characteristics"
   ]
  },
  {
   "cell_type": "markdown",
   "metadata": {},
   "source": [
    "### Number of times the product was purchased"
   ]
  },
  {
   "cell_type": "code",
   "execution_count": 22,
   "metadata": {},
   "outputs": [
    {
     "name": "stdout",
     "output_type": "stream",
     "text": [
      "1\n"
     ]
    }
   ],
   "source": [
    "data['purchase'] = data['Behavior_list'].apply(lambda x: 0 if '4' not in x else Counter(x)['4'])\n",
    "print(data['purchase'].iloc[7])"
   ]
  },
  {
   "cell_type": "markdown",
   "metadata": {},
   "source": [
    "### Number of users who purchased the item"
   ]
  },
  {
   "cell_type": "code",
   "execution_count": 23,
   "metadata": {},
   "outputs": [
    {
     "name": "stdout",
     "output_type": "stream",
     "text": [
      "0\n"
     ]
    }
   ],
   "source": [
    "data1['purchase'] = data1['Behavior_list'].apply(lambda x: 0 if '4' not in x else Counter(x)['4'])\n",
    "print(data1['purchase'].iloc[0])"
   ]
  },
  {
   "cell_type": "markdown",
   "metadata": {},
   "source": [
    "### Number of times the product was viewed"
   ]
  },
  {
   "cell_type": "code",
   "execution_count": 24,
   "metadata": {},
   "outputs": [
    {
     "name": "stdout",
     "output_type": "stream",
     "text": [
      "39\n"
     ]
    }
   ],
   "source": [
    "data['Pageview'] = data['Behavior_list'].apply(lambda x: 0 if '1' not in x else Counter(x)['1'])\n",
    "print(data['Pageview'].iloc[7])"
   ]
  },
  {
   "cell_type": "markdown",
   "metadata": {},
   "source": [
    "### Number of users who viewed the item"
   ]
  },
  {
   "cell_type": "code",
   "execution_count": 25,
   "metadata": {},
   "outputs": [
    {
     "name": "stdout",
     "output_type": "stream",
     "text": [
      "1\n"
     ]
    }
   ],
   "source": [
    "data1['Pageview'] = data1['Behavior_list'].apply(lambda x: 0 if '1' not in x else Counter(x)['1'])\n",
    "print(data1['Pageview'].iloc[0])"
   ]
  },
  {
   "cell_type": "markdown",
   "metadata": {},
   "source": [
    "### Number of times the product was collected"
   ]
  },
  {
   "cell_type": "code",
   "execution_count": 26,
   "metadata": {},
   "outputs": [
    {
     "name": "stdout",
     "output_type": "stream",
     "text": [
      "0\n"
     ]
    }
   ],
   "source": [
    "data['Collection'] = data['Behavior_list'].apply(lambda x: 0 if '2' not in x else Counter(x)['2'])\n",
    "print(data['Collection'].iloc[7])"
   ]
  },
  {
   "cell_type": "markdown",
   "metadata": {},
   "source": [
    "###  Number of users who collected the item"
   ]
  },
  {
   "cell_type": "code",
   "execution_count": 27,
   "metadata": {},
   "outputs": [
    {
     "name": "stdout",
     "output_type": "stream",
     "text": [
      "0\n"
     ]
    }
   ],
   "source": [
    "data1['Collection'] = data1['Behavior_list'].apply(lambda x: 0 if '2' not in x else Counter(x)['2'])\n",
    "print(data1['Collection'].iloc[0])"
   ]
  },
  {
   "cell_type": "markdown",
   "metadata": {},
   "source": [
    "### Number of times the product was carted"
   ]
  },
  {
   "cell_type": "code",
   "execution_count": 28,
   "metadata": {},
   "outputs": [
    {
     "name": "stdout",
     "output_type": "stream",
     "text": [
      "0\n"
     ]
    }
   ],
   "source": [
    "data['Add_shopping_cart'] = data['Behavior_list'].apply(lambda x: 0 if '3' not in x else Counter(x)['3'])\n",
    "print(data['Add_shopping_cart'].iloc[7])"
   ]
  },
  {
   "cell_type": "markdown",
   "metadata": {},
   "source": [
    "### Number of users who carted the item"
   ]
  },
  {
   "cell_type": "code",
   "execution_count": 29,
   "metadata": {},
   "outputs": [
    {
     "name": "stdout",
     "output_type": "stream",
     "text": [
      "1\n"
     ]
    }
   ],
   "source": [
    "data1['Add_shopping_cart'] = data1['Behavior_list'].apply(lambda x: 0 if '3' not in x else Counter(x)['3'])\n",
    "print(data1['Add_shopping_cart'].iloc[0])"
   ]
  },
  {
   "cell_type": "markdown",
   "metadata": {
    "toc-hr-collapsed": false
   },
   "source": [
    "# Conversion rate characteristics"
   ]
  },
  {
   "cell_type": "markdown",
   "metadata": {},
   "source": [
    "### Number of times the product was purchased/Number of times the product was viewed"
   ]
  },
  {
   "cell_type": "code",
   "execution_count": 38,
   "metadata": {},
   "outputs": [],
   "source": [
    "data['purchase/Pageview'] = data['purchase']/data['Pageview']"
   ]
  },
  {
   "cell_type": "code",
   "execution_count": 39,
   "metadata": {
    "scrolled": true
   },
   "outputs": [
    {
     "name": "stdout",
     "output_type": "stream",
     "text": [
      "user_id\n",
      "100605       0.000000\n",
      "1031737      0.000000\n",
      "1042942      0.000000\n",
      "1050718      0.000000\n",
      "1087279      0.000000\n",
      "1094209      0.000000\n",
      "1111549      0.083333\n",
      "10001082     0.025641\n",
      "10009860     0.029412\n",
      "10011993     0.010526\n",
      "10051209     0.000000\n",
      "10088568     0.062500\n",
      "10088967     0.000000\n",
      "10095384     0.077725\n",
      "10142625     0.000000\n",
      "10150287     0.000000\n",
      "10176801     0.012048\n",
      "10184463     0.000000\n",
      "10216314     0.000000\n",
      "10230498     0.000000\n",
      "10231590     0.003165\n",
      "10238478     0.003584\n",
      "10258551     0.000000\n",
      "10260285     0.000000\n",
      "10289583     0.250000\n",
      "10357743     0.000000\n",
      "10388376     0.004386\n",
      "10477056     0.000000\n",
      "10496835     0.000000\n",
      "10531113     0.010965\n",
      "               ...   \n",
      "111256954    0.000000\n",
      "111270700    0.008547\n",
      "111294118    0.023256\n",
      "111314602    0.046784\n",
      "111326653    0.000000\n",
      "111332776    0.250000\n",
      "111343582    0.000000\n",
      "111345634    0.017964\n",
      "111356041    0.000000\n",
      "111375820    0.000000\n",
      "111382789    0.000000\n",
      "111385135    0.166667\n",
      "111402076    0.000000\n",
      "111409210    0.000000\n",
      "111432262    0.000000\n",
      "111435559    0.000000\n",
      "111485020    0.013245\n",
      "111500023    0.125000\n",
      "111501667    0.000000\n",
      "111539434    0.009615\n",
      "111547609    0.037037\n",
      "111554425    0.000000\n",
      "111558415    0.000000\n",
      "111588601    0.000000\n",
      "111609931    0.011765\n",
      "111629758    0.000000\n",
      "111657607    0.000000\n",
      "111693916    0.000000\n",
      "111694210    0.014815\n",
      "111699844    0.000000\n",
      "Name: purchase/Pageview, Length: 671, dtype: float64\n"
     ]
    }
   ],
   "source": [
    "print(data['purchase/Pageview'])"
   ]
  },
  {
   "cell_type": "markdown",
   "metadata": {},
   "source": [
    "### Number of users who purchased the item/Number of users who viewed the item"
   ]
  },
  {
   "cell_type": "code",
   "execution_count": 40,
   "metadata": {},
   "outputs": [],
   "source": [
    "data1['purchase/Pageview'] = data1['purchase']/data1['Pageview']"
   ]
  },
  {
   "cell_type": "code",
   "execution_count": 41,
   "metadata": {},
   "outputs": [
    {
     "name": "stdout",
     "output_type": "stream",
     "text": [
      "item_id\n",
      "12502        0.000000\n",
      "35990        0.000000\n",
      "44395        0.000000\n",
      "45976        0.000000\n",
      "47606        0.000000\n",
      "53557        0.000000\n",
      "92198        0.000000\n",
      "94440        0.000000\n",
      "106100       0.000000\n",
      "108953       0.000000\n",
      "140594       0.000000\n",
      "156244       0.000000\n",
      "167698       0.000000\n",
      "193293            inf\n",
      "227939       0.000000\n",
      "245918       0.000000\n",
      "262691       0.000000\n",
      "284068       0.000000\n",
      "300317       0.000000\n",
      "329077       0.000000\n",
      "335886       0.000000\n",
      "337096       0.000000\n",
      "362854       0.000000\n",
      "384966       0.000000\n",
      "388234       0.000000\n",
      "405994       0.000000\n",
      "410652       0.000000\n",
      "417914       0.000000\n",
      "424066       0.000000\n",
      "427150       0.000000\n",
      "               ...   \n",
      "404147670    0.000000\n",
      "404161565    0.000000\n",
      "404182920    0.000000\n",
      "404194480    0.000000\n",
      "404199397    0.000000\n",
      "404208036    0.000000\n",
      "404237820    0.000000\n",
      "404239836    0.166667\n",
      "404247317    0.000000\n",
      "404271866    0.000000\n",
      "404296937    0.000000\n",
      "404325657    0.000000\n",
      "404362314    0.000000\n",
      "404374633    0.000000\n",
      "404376397    0.000000\n",
      "404377659    0.000000\n",
      "404377710    0.000000\n",
      "404419759    0.000000\n",
      "404461310    0.000000\n",
      "404467196    0.000000\n",
      "404478531    0.000000\n",
      "404479003    0.000000\n",
      "404479644    0.000000\n",
      "404524381    0.000000\n",
      "404528374    0.000000\n",
      "404552154    0.000000\n",
      "404553355    0.000000\n",
      "404554368    0.000000\n",
      "404556406    0.000000\n",
      "404558578    0.000000\n",
      "Name: purchase/Pageview, Length: 29356, dtype: float64\n"
     ]
    }
   ],
   "source": [
    "print(data1['purchase/Pageview'])"
   ]
  },
  {
   "cell_type": "markdown",
   "metadata": {},
   "source": [
    "### 购买量/收藏量"
   ]
  },
  {
   "cell_type": "code",
   "execution_count": 42,
   "metadata": {},
   "outputs": [],
   "source": [
    "data['purchase/Collection'] = data['purchase'] / data['Collection']"
   ]
  },
  {
   "cell_type": "markdown",
   "metadata": {},
   "source": [
    "### 购买人数/收藏人数"
   ]
  },
  {
   "cell_type": "code",
   "execution_count": 43,
   "metadata": {},
   "outputs": [],
   "source": [
    "data1['purchase/Collection'] = data1['purchase']/data1['Collection']"
   ]
  },
  {
   "cell_type": "markdown",
   "metadata": {},
   "source": [
    "### 购买量/加购物车量"
   ]
  },
  {
   "cell_type": "code",
   "execution_count": 44,
   "metadata": {},
   "outputs": [],
   "source": [
    "data['purchase/Add_shopping_cart'] = data['purchase'] / data['Add_shopping_cart']"
   ]
  },
  {
   "cell_type": "markdown",
   "metadata": {},
   "source": [
    "### 购买人数/加购物车人数"
   ]
  },
  {
   "cell_type": "code",
   "execution_count": 45,
   "metadata": {},
   "outputs": [],
   "source": [
    "data1['purchase/Add_shopping_cart'] = data1['purchase']/data1['Add_shopping_cart']"
   ]
  },
  {
   "cell_type": "markdown",
   "metadata": {
    "toc-hr-collapsed": false
   },
   "source": [
    "# 比值类特征"
   ]
  },
  {
   "cell_type": "markdown",
   "metadata": {},
   "source": [
    "### 返客率"
   ]
  },
  {
   "cell_type": "code",
   "execution_count": 46,
   "metadata": {},
   "outputs": [],
   "source": [
    "data1['Return_rate'] = data1['purchase'] / data1['Number_of_acts']"
   ]
  },
  {
   "cell_type": "code",
   "execution_count": 47,
   "metadata": {},
   "outputs": [
    {
     "name": "stdout",
     "output_type": "stream",
     "text": [
      "item_id\n",
      "12502        0.000000\n",
      "35990        0.000000\n",
      "44395        0.000000\n",
      "45976        0.000000\n",
      "47606        0.000000\n",
      "53557        0.000000\n",
      "92198        0.000000\n",
      "94440        0.000000\n",
      "106100       0.000000\n",
      "108953       0.000000\n",
      "140594       0.000000\n",
      "156244       0.000000\n",
      "167698       0.000000\n",
      "193293       1.000000\n",
      "227939       0.000000\n",
      "245918       0.000000\n",
      "262691       0.000000\n",
      "284068       0.000000\n",
      "300317       0.000000\n",
      "329077       0.000000\n",
      "335886       0.000000\n",
      "337096       0.000000\n",
      "362854       0.000000\n",
      "384966       0.000000\n",
      "388234       0.000000\n",
      "405994       0.000000\n",
      "410652       0.000000\n",
      "417914       0.000000\n",
      "424066       0.000000\n",
      "427150       0.000000\n",
      "               ...   \n",
      "404147670    0.000000\n",
      "404161565    0.000000\n",
      "404182920    0.000000\n",
      "404194480    0.000000\n",
      "404199397    0.000000\n",
      "404208036    0.000000\n",
      "404237820    0.000000\n",
      "404239836    0.142857\n",
      "404247317    0.000000\n",
      "404271866    0.000000\n",
      "404296937    0.000000\n",
      "404325657    0.000000\n",
      "404362314    0.000000\n",
      "404374633    0.000000\n",
      "404376397    0.000000\n",
      "404377659    0.000000\n",
      "404377710    0.000000\n",
      "404419759    0.000000\n",
      "404461310    0.000000\n",
      "404467196    0.000000\n",
      "404478531    0.000000\n",
      "404479003    0.000000\n",
      "404479644    0.000000\n",
      "404524381    0.000000\n",
      "404528374    0.000000\n",
      "404552154    0.000000\n",
      "404553355    0.000000\n",
      "404554368    0.000000\n",
      "404556406    0.000000\n",
      "404558578    0.000000\n",
      "Name: Return_rate, Length: 29356, dtype: float64\n"
     ]
    }
   ],
   "source": [
    "print(data1['Return_rate'])"
   ]
  },
  {
   "cell_type": "markdown",
   "metadata": {},
   "source": [
    "### 返访率"
   ]
  },
  {
   "cell_type": "code",
   "execution_count": 48,
   "metadata": {},
   "outputs": [],
   "source": [
    "data1['Return_visit_raten'] = data1['Pageview'] / data1['Number_of_acts']"
   ]
  },
  {
   "cell_type": "markdown",
   "metadata": {},
   "source": [
    "### 返藏率 "
   ]
  },
  {
   "cell_type": "code",
   "execution_count": 49,
   "metadata": {},
   "outputs": [],
   "source": [
    "data1['Return_to_Tibet'] = data1['Collection'] / data1['Number_of_acts']"
   ]
  },
  {
   "cell_type": "markdown",
   "metadata": {},
   "source": [
    "### 返车率"
   ]
  },
  {
   "cell_type": "code",
   "execution_count": 50,
   "metadata": {},
   "outputs": [],
   "source": [
    "data1['Return_to_cart'] = data1['Add_shopping_cart'] / data1['Number_of_acts']"
   ]
  },
  {
   "cell_type": "markdown",
   "metadata": {
    "toc-hr-collapsed": false
   },
   "source": [
    "# Geo Feature"
   ]
  },
  {
   "cell_type": "code",
   "execution_count": 51,
   "metadata": {},
   "outputs": [],
   "source": [
    "df['user_geohash1'] = df['user_geohash'].apply(lambda x: 0 if x=='nan' else str(x)[:3])"
   ]
  },
  {
   "cell_type": "code",
   "execution_count": 52,
   "metadata": {},
   "outputs": [
    {
     "name": "stdout",
     "output_type": "stream",
     "text": [
      "0        nan\n",
      "1        nan\n",
      "2        nan\n",
      "3        nan\n",
      "4        nan\n",
      "5        nan\n",
      "6        nan\n",
      "7        nan\n",
      "8        nan\n",
      "9        nan\n",
      "10       nan\n",
      "11       nan\n",
      "12       nan\n",
      "13       nan\n",
      "14       nan\n",
      "15       nan\n",
      "16       nan\n",
      "17       nan\n",
      "18       nan\n",
      "19       nan\n",
      "20       nan\n",
      "21       nan\n",
      "22       nan\n",
      "23       nan\n",
      "24       nan\n",
      "25       nan\n",
      "26       nan\n",
      "27       nan\n",
      "28       nan\n",
      "29       nan\n",
      "        ... \n",
      "73019    9rn\n",
      "73020    9rn\n",
      "73021    9rn\n",
      "73022    9rn\n",
      "73023    9rn\n",
      "73024    9rn\n",
      "73025    9rn\n",
      "73026    9rn\n",
      "73027    9rn\n",
      "73028    9rn\n",
      "73029    9rn\n",
      "73030    9rn\n",
      "73031    9rn\n",
      "73032    9rn\n",
      "73033    9rn\n",
      "73034    9rn\n",
      "73035    9rn\n",
      "73036    9rn\n",
      "73037    9rn\n",
      "73038    9rn\n",
      "73039    9rn\n",
      "73040    9rn\n",
      "73041    9rn\n",
      "73042    9rn\n",
      "73043    9rn\n",
      "73044    9rn\n",
      "73045    9rn\n",
      "73046    9rn\n",
      "73047    9rn\n",
      "73048    9rn\n",
      "Name: user_geohash1, Length: 73049, dtype: object\n"
     ]
    }
   ],
   "source": [
    "print(df['user_geohash1'])"
   ]
  },
  {
   "cell_type": "code",
   "execution_count": null,
   "metadata": {},
   "outputs": [],
   "source": [
    "c = df.groupby('user_geohash1')['behavior_type1'].sum()"
   ]
  },
  {
   "cell_type": "code",
   "execution_count": null,
   "metadata": {},
   "outputs": [],
   "source": [
    "print(c)"
   ]
  },
  {
   "cell_type": "code",
   "execution_count": null,
   "metadata": {},
   "outputs": [],
   "source": [
    "data3 = pd.DataFrame()\n",
    "data3['behavior_list'] = c\n",
    "print(data3.head(10))"
   ]
  },
  {
   "cell_type": "markdown",
   "metadata": {},
   "source": [
    "## 区域购买力"
   ]
  },
  {
   "cell_type": "code",
   "execution_count": null,
   "metadata": {},
   "outputs": [],
   "source": [
    "data3['purchase'] = data3['behavior_list'].apply(lambda x: 0 if '4' not in x else Counter(x)['4'])\n",
    "data3['behavior_total'] = data3['behavior_list'].apply(lambda x: len(x))\n",
    "data3['Regional_purchasing_power'] = data3['purchase']/data3['behavior_total']\n",
    "print(data3['Regional_purchasing_power'])\n"
   ]
  },
  {
   "cell_type": "markdown",
   "metadata": {
    "toc-hr-collapsed": false
   },
   "source": [
    "## 区域转化率"
   ]
  },
  {
   "cell_type": "markdown",
   "metadata": {},
   "source": [
    "### 区域购买量/区域浏览量"
   ]
  },
  {
   "cell_type": "code",
   "execution_count": null,
   "metadata": {},
   "outputs": [],
   "source": [
    "data3['Pageview'] = data3['behavior_list'].apply(lambda x: 0 if '1' not in x else Counter(x)['1'])\n",
    "data3['purchase/Pageview'] = data3['purchase']/data3['Pageview']\n"
   ]
  },
  {
   "cell_type": "markdown",
   "metadata": {},
   "source": [
    "### 区域购买量/区域收藏量"
   ]
  },
  {
   "cell_type": "code",
   "execution_count": null,
   "metadata": {},
   "outputs": [],
   "source": [
    "data3['Collection'] = data3['behavior_list'].apply(lambda x: 0 if '2' not in x else Counter(x)['2'])\n",
    "data3['purchase/Collection'] = data3['purchase']/data3['Collection']"
   ]
  },
  {
   "cell_type": "markdown",
   "metadata": {},
   "source": [
    "### 区域购买量/区域加购物车量"
   ]
  },
  {
   "cell_type": "code",
   "execution_count": null,
   "metadata": {},
   "outputs": [],
   "source": [
    "data3['Add_shopping_cart'] = data3['behavior_list'].apply(lambda x: 0 if '3' not in x else Counter(x)['3'])\n",
    "data3['purchase/Add_shopping_cart'] = data3['purchase']/data3['Add_shopping_cart']"
   ]
  },
  {
   "cell_type": "code",
   "execution_count": null,
   "metadata": {},
   "outputs": [],
   "source": []
  },
  {
   "cell_type": "code",
   "execution_count": null,
   "metadata": {},
   "outputs": [],
   "source": [
    "print(data)"
   ]
  },
  {
   "cell_type": "code",
   "execution_count": null,
   "metadata": {},
   "outputs": [],
   "source": [
    "col = [x for x in data.columns if x != 'Behavior_list']\n",
    "print(col)\n",
    "a3 = ['2_item_buy','2_item_view','2_item_collect','2_item_add','2_item_buy_view','2_item_buy_collect','2_item_buy_add']\n",
    "for i in range(len(col)):\n",
    "    x = dict(zip(data.index,data[col[i]]))\n",
    "    df[a3[i]] = df['user_id'].map(x)"
   ]
  },
  {
   "cell_type": "code",
   "execution_count": null,
   "metadata": {},
   "outputs": [],
   "source": [
    "col = [x for x in data1.columns if x != 'Behavior_list']\n",
    "print(col)\n",
    "a2 = ['2_item_buypeople','2_item_viewpeople','2_item_collectpeople','2_item_addpeople','2_item_buypeople_viewpeople','2_item_buypeople_collectpeople','2_item_buypeople_addpeople',\n",
    "'Number_of_acts','2_item_frequentbuypeople_buypeople','2_item_frequentviewpeople_viewpeople','2_item_frequentcollectpeople_collectpeople','2_item_frequentaddpeople_addpeople']\n",
    "\n",
    "for i in range(len(col)):\n",
    "    x = dict(zip(data1.index,data1[col[i]]))\n",
    "    df[a2[i]] = df['item_id'].map(x)"
   ]
  },
  {
   "cell_type": "code",
   "execution_count": 48,
   "metadata": {},
   "outputs": [
    {
     "name": "stdout",
     "output_type": "stream",
     "text": [
      "['Regional_purchasing_power', 'purchase/Pageview', 'purchase/Pageview', 'purchase/Add_shopping_cart']\n"
     ]
    }
   ],
   "source": [
    "col = ['Regional_purchasing_power','purchase/Pageview','purchase/Pageview','purchase/Add_shopping_cart']\n",
    "print(col)\n",
    "a1 = ['4_geo_purchasepower','4_geo_buyview','4_geo_buycollect','4_geo_buyadd']\n",
    "for i in range(len(col)):\n",
    "    x = dict(zip(data3.index,data3[col[i]]))\n",
    "    df[a1[i]] = df['user_geohash1'].map(x)\n",
    "\n"
   ]
  },
  {
   "cell_type": "code",
   "execution_count": 49,
   "metadata": {},
   "outputs": [],
   "source": [
    "test = pd.read_excel('D:/个人资料/研究生/学习/研一下/MLF/Project/result of feature/input_user_item_pair_train_15.xlsx')"
   ]
  },
  {
   "cell_type": "code",
   "execution_count": 50,
   "metadata": {},
   "outputs": [],
   "source": [
    "drop = ['user_id', 'item_id', 'behavior_type', 'user_geohash', 'item_category',\n",
    "        'time', 'behavior_type1', 'user_id 1', 'user_id1','user_geohash1','Number_of_acts']\n",
    "train_col = [x for x in df.columns if x not in drop]\n",
    "test[train_col] = df[train_col]\n",
    "\n"
   ]
  },
  {
   "cell_type": "code",
   "execution_count": 51,
   "metadata": {},
   "outputs": [
    {
     "name": "stdout",
     "output_type": "stream",
     "text": [
      "       Unnamed: 0      id    user_id    item_id  label        time  \\\n",
      "0             141     142  100029775  287413918      0  2014-12-15   \n",
      "1             142     143  100029775  287413918      0  2014-12-15   \n",
      "2             143     144  100029775  246012058      0  2014-12-15   \n",
      "3             144     145  100029775  130639998      0  2014-12-15   \n",
      "4             145     146  100029775  287413918      0  2014-12-15   \n",
      "5             146     147  100029775   56574541      0  2014-12-15   \n",
      "6             147     148  100029775  313616193      0  2014-12-15   \n",
      "7             148     149  100029775  153973127      0  2014-12-15   \n",
      "8             149     150  100029775  311703684      0  2014-12-15   \n",
      "9             150     151  100029775  287413918      0  2014-12-15   \n",
      "10            151     152  100029775  130639998      0  2014-12-15   \n",
      "11            152     153  100029775  287413918      0  2014-12-15   \n",
      "12            153     154  100029775  287413918      0  2014-12-15   \n",
      "13            154     155  100029775  153973127      0  2014-12-15   \n",
      "14            155     156  100029775  153973127      0  2014-12-15   \n",
      "15            156     157  100029775  222229697      0  2014-12-15   \n",
      "16            157     158  100029775   56574541      0  2014-12-15   \n",
      "17            158     159  100029775   17988661      0  2014-12-15   \n",
      "18            159     160  100029775  255125223      0  2014-12-15   \n",
      "19            160     161  100029775   17988661      0  2014-12-15   \n",
      "20            161     162  100029775  222229697      0  2014-12-15   \n",
      "21            162     163  100029775  287413918      0  2014-12-15   \n",
      "22            163     164  100029775  287413918      0  2014-12-15   \n",
      "23            164     165  100029775  255125223      0  2014-12-15   \n",
      "24            165     166  100029775  287413918      0  2014-12-15   \n",
      "25            166     167  100029775   97350436      0  2014-12-15   \n",
      "26            167     168  100029775   17988661      0  2014-12-15   \n",
      "27            168     169  100029775  287413918      0  2014-12-15   \n",
      "28            169     170  100029775  287413918      0  2014-12-15   \n",
      "29            170     171  100029775  287413918      0  2014-12-15   \n",
      "...           ...     ...        ...        ...    ...         ...   \n",
      "73019      278514  278515  111382789   30987982      0  2014-12-15   \n",
      "73020      278515  278516  111382789  247314506      0  2014-12-15   \n",
      "73021      278516  278517  111382789  368759272      0  2014-12-15   \n",
      "73022      278811  278812  111500023   99133682      0  2014-12-15   \n",
      "73023      278812  278813  111500023  296238508      0  2014-12-15   \n",
      "73024      278813  278814  111500023   99133682      0  2014-12-15   \n",
      "73025      278814  278815  111500023  212981204      0  2014-12-15   \n",
      "73026      278815  278816  111500023  132860040      0  2014-12-15   \n",
      "73027      278816  278817  111500023  332182219      0  2014-12-15   \n",
      "73028      278817  278818  111500023  228102329      0  2014-12-15   \n",
      "73029      278818  278819  111500023  332182219      0  2014-12-15   \n",
      "73030      278819  278820  111500023   23507210      0  2014-12-15   \n",
      "73031      278820  278821  111500023  332182219      0  2014-12-15   \n",
      "73032      278821  278822  111500023  352930672      0  2014-12-15   \n",
      "73033      278822  278823  111500023  132860040      0  2014-12-15   \n",
      "73034      278823  278824  111500023  212981204      0  2014-12-15   \n",
      "73035      278824  278825  111500023  332182219      0  2014-12-15   \n",
      "73036      278825  278826  111500023   99133682      0  2014-12-15   \n",
      "73037      278826  278827  111500023  352930672      0  2014-12-15   \n",
      "73038      278827  278828  111500023   23507210      0  2014-12-15   \n",
      "73039      278828  278829  111500023  228102329      0  2014-12-15   \n",
      "73040      278856  278857  111588601   26973749      0  2014-12-15   \n",
      "73041      278857  278858  111588601  389918425      0  2014-12-15   \n",
      "73042      278858  278859  111588601  389918425      0  2014-12-15   \n",
      "73043      278859  278860  111588601   49496595      0  2014-12-15   \n",
      "73044      278860  278861  111588601   49496595      0  2014-12-15   \n",
      "73045      278861  278862  111588601  213530753      0  2014-12-15   \n",
      "73046      278862  278863  111588601   26973749      0  2014-12-15   \n",
      "73047      278863  278864  111588601   26973749      0  2014-12-15   \n",
      "73048      278864  278865  111588601   49496595      0  2014-12-15   \n",
      "\n",
      "       2_item_buy  2_item_view  2_item_collect  2_item_add  ...  \\\n",
      "0               1           39               0           0  ...   \n",
      "1               1           39               0           0  ...   \n",
      "2               1           39               0           0  ...   \n",
      "3               1           39               0           0  ...   \n",
      "4               1           39               0           0  ...   \n",
      "5               1           39               0           0  ...   \n",
      "6               1           39               0           0  ...   \n",
      "7               1           39               0           0  ...   \n",
      "8               1           39               0           0  ...   \n",
      "9               1           39               0           0  ...   \n",
      "10              1           39               0           0  ...   \n",
      "11              1           39               0           0  ...   \n",
      "12              1           39               0           0  ...   \n",
      "13              1           39               0           0  ...   \n",
      "14              1           39               0           0  ...   \n",
      "15              1           39               0           0  ...   \n",
      "16              1           39               0           0  ...   \n",
      "17              1           39               0           0  ...   \n",
      "18              1           39               0           0  ...   \n",
      "19              1           39               0           0  ...   \n",
      "20              1           39               0           0  ...   \n",
      "21              1           39               0           0  ...   \n",
      "22              1           39               0           0  ...   \n",
      "23              1           39               0           0  ...   \n",
      "24              1           39               0           0  ...   \n",
      "25              1           39               0           0  ...   \n",
      "26              1           39               0           0  ...   \n",
      "27              1           39               0           0  ...   \n",
      "28              1           39               0           0  ...   \n",
      "29              1           39               0           0  ...   \n",
      "...           ...          ...             ...         ...  ...   \n",
      "73019           0           31               0           0  ...   \n",
      "73020           0           31               0           0  ...   \n",
      "73021           0           31               0           0  ...   \n",
      "73022           0           31               0           0  ...   \n",
      "73023           0           31               0           0  ...   \n",
      "73024           0           31               0           0  ...   \n",
      "73025           0           31               0           0  ...   \n",
      "73026           0           31               0           0  ...   \n",
      "73027           0           31               0           0  ...   \n",
      "73028           0           31               0           0  ...   \n",
      "73029           0           31               0           0  ...   \n",
      "73030           0           31               0           0  ...   \n",
      "73031           0           31               0           0  ...   \n",
      "73032           0           31               0           0  ...   \n",
      "73033           0           31               0           0  ...   \n",
      "73034           0           31               0           0  ...   \n",
      "73035           0           31               0           0  ...   \n",
      "73036           0           31               0           0  ...   \n",
      "73037           0           31               0           0  ...   \n",
      "73038           0           31               0           0  ...   \n",
      "73039           0           31               0           0  ...   \n",
      "73040           0           31               0           0  ...   \n",
      "73041           0           31               0           0  ...   \n",
      "73042           0           31               0           0  ...   \n",
      "73043           0           31               0           0  ...   \n",
      "73044           0           31               0           0  ...   \n",
      "73045           0           31               0           0  ...   \n",
      "73046           0           31               0           0  ...   \n",
      "73047           0           31               0           0  ...   \n",
      "73048           0           31               0           0  ...   \n",
      "\n",
      "       2_item_buypeople_collectpeople  2_item_buypeople_addpeople  \\\n",
      "0                            0.000000                         NaN   \n",
      "1                            0.333333                         inf   \n",
      "2                            0.000000                         NaN   \n",
      "3                            0.000000                         NaN   \n",
      "4                            0.000000                         NaN   \n",
      "5                            0.000000                         NaN   \n",
      "6                            0.333333                         inf   \n",
      "7                            0.000000                         NaN   \n",
      "8                            0.000000                         NaN   \n",
      "9                            0.000000                         NaN   \n",
      "10                           0.000000                         NaN   \n",
      "11                           0.000000                         NaN   \n",
      "12                           0.000000                         NaN   \n",
      "13                           0.000000                         NaN   \n",
      "14                           0.000000                         NaN   \n",
      "15                           0.000000                         NaN   \n",
      "16                           0.000000                         NaN   \n",
      "17                           0.000000                         NaN   \n",
      "18                           0.000000                         NaN   \n",
      "19                           0.000000                         NaN   \n",
      "20                           0.000000                         NaN   \n",
      "21                           0.000000                         NaN   \n",
      "22                           0.000000                         NaN   \n",
      "23                           0.000000                         NaN   \n",
      "24                           0.000000                         NaN   \n",
      "25                           0.000000                         NaN   \n",
      "26                           0.000000                         NaN   \n",
      "27                           0.000000                         NaN   \n",
      "28                           0.000000                         NaN   \n",
      "29                           0.333333                         inf   \n",
      "...                               ...                         ...   \n",
      "73019                        0.000000                         NaN   \n",
      "73020                        0.000000                         NaN   \n",
      "73021                        0.000000                         NaN   \n",
      "73022                        0.000000                         NaN   \n",
      "73023                        0.000000                         NaN   \n",
      "73024                        0.000000                         NaN   \n",
      "73025                        0.000000                         NaN   \n",
      "73026                        0.000000                         NaN   \n",
      "73027                        0.000000                         NaN   \n",
      "73028                        0.000000                         NaN   \n",
      "73029                        0.000000                         NaN   \n",
      "73030                        0.000000                         NaN   \n",
      "73031                        0.000000                         NaN   \n",
      "73032                        0.000000                         NaN   \n",
      "73033                        0.000000                         NaN   \n",
      "73034                        0.000000                         NaN   \n",
      "73035                        0.000000                         NaN   \n",
      "73036                        0.000000                         NaN   \n",
      "73037                        0.000000                         NaN   \n",
      "73038                        0.000000                         NaN   \n",
      "73039                        0.000000                         NaN   \n",
      "73040                        0.000000                         NaN   \n",
      "73041                        0.000000                         NaN   \n",
      "73042                        0.000000                         NaN   \n",
      "73043                        0.000000                         NaN   \n",
      "73044                        0.000000                         NaN   \n",
      "73045                        0.000000                         NaN   \n",
      "73046                        0.000000                         NaN   \n",
      "73047                        0.000000                         NaN   \n",
      "73048                        0.000000                         NaN   \n",
      "\n",
      "       2_item_frequentbuypeople_buypeople  \\\n",
      "0                                    0.00   \n",
      "1                                    0.25   \n",
      "2                                    0.00   \n",
      "3                                    0.00   \n",
      "4                                    0.00   \n",
      "5                                    0.00   \n",
      "6                                    0.25   \n",
      "7                                    0.00   \n",
      "8                                    0.00   \n",
      "9                                    0.00   \n",
      "10                                   0.00   \n",
      "11                                   0.00   \n",
      "12                                   0.00   \n",
      "13                                   0.00   \n",
      "14                                   0.00   \n",
      "15                                   0.00   \n",
      "16                                   0.00   \n",
      "17                                   0.00   \n",
      "18                                   0.00   \n",
      "19                                   0.00   \n",
      "20                                   0.00   \n",
      "21                                   0.00   \n",
      "22                                   0.00   \n",
      "23                                   0.00   \n",
      "24                                   0.00   \n",
      "25                                   0.00   \n",
      "26                                   0.00   \n",
      "27                                   0.00   \n",
      "28                                   0.00   \n",
      "29                                   0.25   \n",
      "...                                   ...   \n",
      "73019                                0.00   \n",
      "73020                                0.00   \n",
      "73021                                0.00   \n",
      "73022                                0.00   \n",
      "73023                                0.00   \n",
      "73024                                0.00   \n",
      "73025                                0.00   \n",
      "73026                                0.00   \n",
      "73027                                0.00   \n",
      "73028                                0.00   \n",
      "73029                                0.00   \n",
      "73030                                0.00   \n",
      "73031                                0.00   \n",
      "73032                                0.00   \n",
      "73033                                0.00   \n",
      "73034                                0.00   \n",
      "73035                                0.00   \n",
      "73036                                0.00   \n",
      "73037                                0.00   \n",
      "73038                                0.00   \n",
      "73039                                0.00   \n",
      "73040                                0.00   \n",
      "73041                                0.00   \n",
      "73042                                0.00   \n",
      "73043                                0.00   \n",
      "73044                                0.00   \n",
      "73045                                0.00   \n",
      "73046                                0.00   \n",
      "73047                                0.00   \n",
      "73048                                0.00   \n",
      "\n",
      "       2_item_frequentviewpeople_viewpeople  \\\n",
      "0                                      1.00   \n",
      "1                                      0.75   \n",
      "2                                      1.00   \n",
      "3                                      1.00   \n",
      "4                                      1.00   \n",
      "5                                      1.00   \n",
      "6                                      0.75   \n",
      "7                                      1.00   \n",
      "8                                      1.00   \n",
      "9                                      1.00   \n",
      "10                                     1.00   \n",
      "11                                     1.00   \n",
      "12                                     1.00   \n",
      "13                                     1.00   \n",
      "14                                     1.00   \n",
      "15                                     1.00   \n",
      "16                                     1.00   \n",
      "17                                     1.00   \n",
      "18                                     1.00   \n",
      "19                                     1.00   \n",
      "20                                     1.00   \n",
      "21                                     1.00   \n",
      "22                                     1.00   \n",
      "23                                     1.00   \n",
      "24                                     1.00   \n",
      "25                                     1.00   \n",
      "26                                     1.00   \n",
      "27                                     1.00   \n",
      "28                                     1.00   \n",
      "29                                     0.75   \n",
      "...                                     ...   \n",
      "73019                                  1.00   \n",
      "73020                                  1.00   \n",
      "73021                                  1.00   \n",
      "73022                                  1.00   \n",
      "73023                                  1.00   \n",
      "73024                                  1.00   \n",
      "73025                                  1.00   \n",
      "73026                                  1.00   \n",
      "73027                                  1.00   \n",
      "73028                                  1.00   \n",
      "73029                                  1.00   \n",
      "73030                                  1.00   \n",
      "73031                                  1.00   \n",
      "73032                                  1.00   \n",
      "73033                                  1.00   \n",
      "73034                                  1.00   \n",
      "73035                                  1.00   \n",
      "73036                                  1.00   \n",
      "73037                                  1.00   \n",
      "73038                                  1.00   \n",
      "73039                                  1.00   \n",
      "73040                                  1.00   \n",
      "73041                                  1.00   \n",
      "73042                                  1.00   \n",
      "73043                                  1.00   \n",
      "73044                                  1.00   \n",
      "73045                                  1.00   \n",
      "73046                                  1.00   \n",
      "73047                                  1.00   \n",
      "73048                                  1.00   \n",
      "\n",
      "       2_item_frequentcollectpeople_collectpeople  \\\n",
      "0                                             0.0   \n",
      "1                                             0.0   \n",
      "2                                             0.0   \n",
      "3                                             0.0   \n",
      "4                                             0.0   \n",
      "5                                             0.0   \n",
      "6                                             0.0   \n",
      "7                                             0.0   \n",
      "8                                             0.0   \n",
      "9                                             0.0   \n",
      "10                                            0.0   \n",
      "11                                            0.0   \n",
      "12                                            0.0   \n",
      "13                                            0.0   \n",
      "14                                            0.0   \n",
      "15                                            0.0   \n",
      "16                                            0.0   \n",
      "17                                            0.0   \n",
      "18                                            0.0   \n",
      "19                                            0.0   \n",
      "20                                            0.0   \n",
      "21                                            0.0   \n",
      "22                                            0.0   \n",
      "23                                            0.0   \n",
      "24                                            0.0   \n",
      "25                                            0.0   \n",
      "26                                            0.0   \n",
      "27                                            0.0   \n",
      "28                                            0.0   \n",
      "29                                            0.0   \n",
      "...                                           ...   \n",
      "73019                                         0.0   \n",
      "73020                                         0.0   \n",
      "73021                                         0.0   \n",
      "73022                                         0.0   \n",
      "73023                                         0.0   \n",
      "73024                                         0.0   \n",
      "73025                                         0.0   \n",
      "73026                                         0.0   \n",
      "73027                                         0.0   \n",
      "73028                                         0.0   \n",
      "73029                                         0.0   \n",
      "73030                                         0.0   \n",
      "73031                                         0.0   \n",
      "73032                                         0.0   \n",
      "73033                                         0.0   \n",
      "73034                                         0.0   \n",
      "73035                                         0.0   \n",
      "73036                                         0.0   \n",
      "73037                                         0.0   \n",
      "73038                                         0.0   \n",
      "73039                                         0.0   \n",
      "73040                                         0.0   \n",
      "73041                                         0.0   \n",
      "73042                                         0.0   \n",
      "73043                                         0.0   \n",
      "73044                                         0.0   \n",
      "73045                                         0.0   \n",
      "73046                                         0.0   \n",
      "73047                                         0.0   \n",
      "73048                                         0.0   \n",
      "\n",
      "       2_item_frequentaddpeople_addpeople  4_geo_purchasepower  4_geo_buyview  \\\n",
      "0                                     0.0             0.009176       0.009722   \n",
      "1                                     0.0             0.009176       0.009722   \n",
      "2                                     0.0             0.009176       0.009722   \n",
      "3                                     0.0             0.009176       0.009722   \n",
      "4                                     0.0             0.009176       0.009722   \n",
      "5                                     0.0             0.009176       0.009722   \n",
      "6                                     0.0             0.009176       0.009722   \n",
      "7                                     0.0             0.009176       0.009722   \n",
      "8                                     0.0             0.009176       0.009722   \n",
      "9                                     0.0             0.009176       0.009722   \n",
      "10                                    0.0             0.009176       0.009722   \n",
      "11                                    0.0             0.009176       0.009722   \n",
      "12                                    0.0             0.009176       0.009722   \n",
      "13                                    0.0             0.009176       0.009722   \n",
      "14                                    0.0             0.009176       0.009722   \n",
      "15                                    0.0             0.009176       0.009722   \n",
      "16                                    0.0             0.009176       0.009722   \n",
      "17                                    0.0             0.009176       0.009722   \n",
      "18                                    0.0             0.009176       0.009722   \n",
      "19                                    0.0             0.009176       0.009722   \n",
      "20                                    0.0             0.009176       0.009722   \n",
      "21                                    0.0             0.009176       0.009722   \n",
      "22                                    0.0             0.009176       0.009722   \n",
      "23                                    0.0             0.009176       0.009722   \n",
      "24                                    0.0             0.009176       0.009722   \n",
      "25                                    0.0             0.009176       0.009722   \n",
      "26                                    0.0             0.009176       0.009722   \n",
      "27                                    0.0             0.009176       0.009722   \n",
      "28                                    0.0             0.009176       0.009722   \n",
      "29                                    0.0             0.009176       0.009722   \n",
      "...                                   ...                  ...            ...   \n",
      "73019                                 0.0             0.000000       0.000000   \n",
      "73020                                 0.0             0.000000       0.000000   \n",
      "73021                                 0.0             0.000000       0.000000   \n",
      "73022                                 0.0             0.000000       0.000000   \n",
      "73023                                 0.0             0.000000       0.000000   \n",
      "73024                                 0.0             0.000000       0.000000   \n",
      "73025                                 0.0             0.000000       0.000000   \n",
      "73026                                 0.0             0.000000       0.000000   \n",
      "73027                                 0.0             0.000000       0.000000   \n",
      "73028                                 0.0             0.000000       0.000000   \n",
      "73029                                 0.0             0.000000       0.000000   \n",
      "73030                                 0.0             0.000000       0.000000   \n",
      "73031                                 0.0             0.000000       0.000000   \n",
      "73032                                 0.0             0.000000       0.000000   \n",
      "73033                                 0.0             0.000000       0.000000   \n",
      "73034                                 0.0             0.000000       0.000000   \n",
      "73035                                 0.0             0.000000       0.000000   \n",
      "73036                                 0.0             0.000000       0.000000   \n",
      "73037                                 0.0             0.000000       0.000000   \n",
      "73038                                 0.0             0.000000       0.000000   \n",
      "73039                                 0.0             0.000000       0.000000   \n",
      "73040                                 0.0             0.000000       0.000000   \n",
      "73041                                 0.0             0.000000       0.000000   \n",
      "73042                                 0.0             0.000000       0.000000   \n",
      "73043                                 0.0             0.000000       0.000000   \n",
      "73044                                 0.0             0.000000       0.000000   \n",
      "73045                                 0.0             0.000000       0.000000   \n",
      "73046                                 0.0             0.000000       0.000000   \n",
      "73047                                 0.0             0.000000       0.000000   \n",
      "73048                                 0.0             0.000000       0.000000   \n",
      "\n",
      "       4_geo_buycollect  4_geo_buyadd  \n",
      "0              0.009722      0.319444  \n",
      "1              0.009722      0.319444  \n",
      "2              0.009722      0.319444  \n",
      "3              0.009722      0.319444  \n",
      "4              0.009722      0.319444  \n",
      "5              0.009722      0.319444  \n",
      "6              0.009722      0.319444  \n",
      "7              0.009722      0.319444  \n",
      "8              0.009722      0.319444  \n",
      "9              0.009722      0.319444  \n",
      "10             0.009722      0.319444  \n",
      "11             0.009722      0.319444  \n",
      "12             0.009722      0.319444  \n",
      "13             0.009722      0.319444  \n",
      "14             0.009722      0.319444  \n",
      "15             0.009722      0.319444  \n",
      "16             0.009722      0.319444  \n",
      "17             0.009722      0.319444  \n",
      "18             0.009722      0.319444  \n",
      "19             0.009722      0.319444  \n",
      "20             0.009722      0.319444  \n",
      "21             0.009722      0.319444  \n",
      "22             0.009722      0.319444  \n",
      "23             0.009722      0.319444  \n",
      "24             0.009722      0.319444  \n",
      "25             0.009722      0.319444  \n",
      "26             0.009722      0.319444  \n",
      "27             0.009722      0.319444  \n",
      "28             0.009722      0.319444  \n",
      "29             0.009722      0.319444  \n",
      "...                 ...           ...  \n",
      "73019          0.000000           NaN  \n",
      "73020          0.000000           NaN  \n",
      "73021          0.000000           NaN  \n",
      "73022          0.000000           NaN  \n",
      "73023          0.000000           NaN  \n",
      "73024          0.000000           NaN  \n",
      "73025          0.000000           NaN  \n",
      "73026          0.000000           NaN  \n",
      "73027          0.000000           NaN  \n",
      "73028          0.000000           NaN  \n",
      "73029          0.000000           NaN  \n",
      "73030          0.000000           NaN  \n",
      "73031          0.000000           NaN  \n",
      "73032          0.000000           NaN  \n",
      "73033          0.000000           NaN  \n",
      "73034          0.000000           NaN  \n",
      "73035          0.000000           NaN  \n",
      "73036          0.000000           NaN  \n",
      "73037          0.000000           NaN  \n",
      "73038          0.000000           NaN  \n",
      "73039          0.000000           NaN  \n",
      "73040          0.000000           NaN  \n",
      "73041          0.000000           NaN  \n",
      "73042          0.000000           NaN  \n",
      "73043          0.000000           NaN  \n",
      "73044          0.000000           NaN  \n",
      "73045          0.000000           NaN  \n",
      "73046          0.000000           NaN  \n",
      "73047          0.000000           NaN  \n",
      "73048          0.000000           NaN  \n",
      "\n",
      "[73049 rows x 28 columns]\n"
     ]
    }
   ],
   "source": [
    "print(test)\n",
    "test.to_excel('D:/个人资料/研究生/学习/研一下/MLF/Project/result of feature/user_item_pair_train_15.xlsx')"
   ]
  }
 ],
 "metadata": {
  "kernelspec": {
   "display_name": "Python 3",
   "language": "python",
   "name": "python3"
  },
  "language_info": {
   "codemirror_mode": {
    "name": "ipython",
    "version": 3
   },
   "file_extension": ".py",
   "mimetype": "text/x-python",
   "name": "python",
   "nbconvert_exporter": "python",
   "pygments_lexer": "ipython3",
   "version": "3.7.3"
  }
 },
 "nbformat": 4,
 "nbformat_minor": 4
}
